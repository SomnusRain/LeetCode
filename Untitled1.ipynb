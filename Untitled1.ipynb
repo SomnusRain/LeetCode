{
 "cells": [
  {
   "cell_type": "code",
   "execution_count": 1,
   "metadata": {
    "ExecuteTime": {
     "end_time": "2021-05-20T08:04:04.645330Z",
     "start_time": "2021-05-20T08:04:04.631358Z"
    }
   },
   "outputs": [],
   "source": [
    "from typing import List"
   ]
  },
  {
   "cell_type": "code",
   "execution_count": 8,
   "metadata": {
    "ExecuteTime": {
     "end_time": "2021-05-20T08:10:55.976690Z",
     "start_time": "2021-05-20T08:10:55.950716Z"
    }
   },
   "outputs": [
    {
     "name": "stdout",
     "output_type": "stream",
     "text": [
      "{0.5: 3, 'y_1': 1, 2.0: 2, 'x_1': 1, -1.0: 6, 'y_3': 1, -0.25: 1}\n"
     ]
    },
    {
     "data": {
      "text/plain": [
       "6"
      ]
     },
     "execution_count": 8,
     "metadata": {},
     "output_type": "execute_result"
    }
   ],
   "source": [
    "class Solution:\n",
    "    def maxPoints(self, points: List[List[int]]) -> int:\n",
    "        res={}\n",
    "        resValues={}\n",
    "        j=0\n",
    "        i=1\n",
    "        if points[j][1]==points[i][1]:\n",
    "                key='y_%d'%points[j][1]\n",
    "            elif points[j][0]==points[i][0]:\n",
    "                key='x_%d'%points[j][0]\n",
    "            else:\n",
    "                key=(points[j][1]-points[i][1])/(points[j][0]-points[i][0])\n",
    "        res[key]=1\n",
    "        resValues[key]=points[j]       \n",
    "        for i in range(lens):\n",
    "            for j in range(i+1,lens):\n",
    "                if points[j][1]==points[i][1]:\n",
    "                    key='y_%d'%points[j][1]\n",
    "                elif points[j][0]==points[i][0]:\n",
    "                    key='x_%d'%points[j][0]\n",
    "                else:\n",
    "                    key=(points[j][1]-points[i][1])/(points[j][0]-points[i][0])\n",
    "                if key in res:\n",
    "                    res[key]+=1\n",
    "                else:\n",
    "                    res[key]=1\n",
    "                    resValues[key]=points[j]\n",
    "        print(res)\n",
    "        return max(res.values())\n",
    "Solution().maxPoints([[1,1],[3,2],[5,3],[4,1],[2,3],[1,4]])"
   ]
  }
 ],
 "metadata": {
  "kernelspec": {
   "display_name": "Python 3",
   "language": "python",
   "name": "python3"
  },
  "language_info": {
   "codemirror_mode": {
    "name": "ipython",
    "version": 3
   },
   "file_extension": ".py",
   "mimetype": "text/x-python",
   "name": "python",
   "nbconvert_exporter": "python",
   "pygments_lexer": "ipython3",
   "version": "3.7.10"
  },
  "varInspector": {
   "cols": {
    "lenName": 16,
    "lenType": 16,
    "lenVar": 40
   },
   "kernels_config": {
    "python": {
     "delete_cmd_postfix": "",
     "delete_cmd_prefix": "del ",
     "library": "var_list.py",
     "varRefreshCmd": "print(var_dic_list())"
    },
    "r": {
     "delete_cmd_postfix": ") ",
     "delete_cmd_prefix": "rm(",
     "library": "var_list.r",
     "varRefreshCmd": "cat(var_dic_list()) "
    }
   },
   "types_to_exclude": [
    "module",
    "function",
    "builtin_function_or_method",
    "instance",
    "_Feature"
   ],
   "window_display": false
  }
 },
 "nbformat": 4,
 "nbformat_minor": 4
}
