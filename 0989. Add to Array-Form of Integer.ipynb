{
 "cells": [
  {
   "cell_type": "markdown",
   "metadata": {},
   "source": [
    "For a non-negative integer X, the array-form of X is an array of its digits in left to right order.  For example, if X = 1231, then the array form is [1,2,3,1].\n",
    "\n",
    "Given the array-form A of a non-negative integer X, return the array-form of the integer X+K.\n",
    "\n",
    "Example 1:\n",
    "\n",
    "    Input: A = [1,2,0,0], K = 34\n",
    "    Output: [1,2,3,4]\n",
    "    Explanation: 1200 + 34 = 1234\n",
    "Example 2:\n",
    "\n",
    "    Input: A = [2,7,4], K = 181\n",
    "    Output: [4,5,5]\n",
    "    Explanation: 274 + 181 = 455\n",
    "Example 3:\n",
    "\n",
    "    Input: A = [2,1,5], K = 806\n",
    "    Output: [1,0,2,1]\n",
    "    Explanation: 215 + 806 = 1021\n",
    "Example 4:\n",
    "\n",
    "    Input: A = [9,9,9,9,9,9,9,9,9,9], K = 1\n",
    "    Output: [1,0,0,0,0,0,0,0,0,0,0]\n",
    "    Explanation: 9999999999 + 1 = 10000000000\n",
    " \n",
    "\n",
    "Note：\n",
    "\n",
    "    1 <= A.length <= 10000\n",
    "    0 <= A[i] <= 9\n",
    "    0 <= K <= 10000\n",
    "    If A.length > 1, then A[0] != 0\n",
    "\n",
    "来源：力扣（LeetCode）\n",
    "链接：https://leetcode-cn.com/problems/add-to-array-form-of-integer\n",
    "著作权归领扣网络所有。商业转载请联系官方授权，非商业转载请注明出处。"
   ]
  },
  {
   "cell_type": "code",
   "execution_count": 17,
   "metadata": {
    "ExecuteTime": {
     "end_time": "2021-01-22T03:01:22.558006Z",
     "start_time": "2021-01-22T03:01:22.550007Z"
    }
   },
   "outputs": [
    {
     "data": {
      "text/plain": [
       "[1, 0, 2, 1]"
      ]
     },
     "execution_count": 17,
     "metadata": {},
     "output_type": "execute_result"
    }
   ],
   "source": [
    "from typing import List\n",
    "class Solution:\n",
    "    def addToArrayForm(self, A: List[int], K: int) -> List[int]:\n",
    "        index=0\n",
    "        while True:\n",
    "            t_1=K//(10**index)%10\n",
    "            if len(A)-index-1 <0:\n",
    "                A.insert(0,0)\n",
    "            A[len(A)-index-1]+=t_1\n",
    "            if A[len(A)-index-1]>=10:\n",
    "                if len(A)-index-2 <0:\n",
    "                    A.insert(0,0)\n",
    "                A[len(A)-index-2]+=1\n",
    "                A[len(A)-index-1]%=10\n",
    "            index+=1\n",
    "            if len(A)-index-1 <0 and 10**index> K:\n",
    "                break\n",
    "        return A\n",
    "Solution().addToArrayForm([2,1,5],806)"
   ]
  }
 ],
 "metadata": {
  "kernelspec": {
   "display_name": "Python 3",
   "language": "python",
   "name": "python3"
  },
  "language_info": {
   "codemirror_mode": {
    "name": "ipython",
    "version": 3
   },
   "file_extension": ".py",
   "mimetype": "text/x-python",
   "name": "python",
   "nbconvert_exporter": "python",
   "pygments_lexer": "ipython3",
   "version": "3.7.7"
  },
  "varInspector": {
   "cols": {
    "lenName": 16,
    "lenType": 16,
    "lenVar": 40
   },
   "kernels_config": {
    "python": {
     "delete_cmd_postfix": "",
     "delete_cmd_prefix": "del ",
     "library": "var_list.py",
     "varRefreshCmd": "print(var_dic_list())"
    },
    "r": {
     "delete_cmd_postfix": ") ",
     "delete_cmd_prefix": "rm(",
     "library": "var_list.r",
     "varRefreshCmd": "cat(var_dic_list()) "
    }
   },
   "types_to_exclude": [
    "module",
    "function",
    "builtin_function_or_method",
    "instance",
    "_Feature"
   ],
   "window_display": false
  }
 },
 "nbformat": 4,
 "nbformat_minor": 4
}
