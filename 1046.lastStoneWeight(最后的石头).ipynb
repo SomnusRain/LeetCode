{
 "cells": [
  {
   "cell_type": "raw",
   "metadata": {},
   "source": [
    "有一堆石头，每块石头的重量都是正整数。\n",
    "\n",
    "每一回合，从中选出两块最重的石头，然后将它们一起粉碎。假设石头的重量分别为 x 和 y，且 x <= y。那么粉碎的可能结果如下：\n",
    "\n",
    "如果 x == y，那么两块石头都会被完全粉碎；\n",
    "如果 x != y，那么重量为 x 的石头将会完全粉碎，而重量为 y 的石头新重量为 y-x。\n",
    "最后，最多只会剩下一块石头。返回此石头的重量。如果没有石头剩下，就返回 0。\n",
    "\n",
    "来源：力扣（LeetCode）\n",
    "链接：https://leetcode-cn.com/problems/last-stone-weight\n",
    "著作权归领扣网络所有。商业转载请联系官方授权，非商业转载请注明出处。"
   ]
  },
  {
   "cell_type": "code",
   "execution_count": 11,
   "metadata": {},
   "outputs": [
    {
     "data": {
      "text/plain": [
       "1"
      ]
     },
     "execution_count": 11,
     "metadata": {},
     "output_type": "execute_result"
    }
   ],
   "source": [
    "from typing import List\n",
    "class Solution:\n",
    "    def lastStoneWeight(self, stones: List[int]) -> int:\n",
    "        if len(stones) <=1:\n",
    "            return stones[0]\n",
    "        length=len(stones)\n",
    "        for i in range(length):\n",
    "            stones.sort(reverse=True)\n",
    "            stones[0]=stones[0]-stones[1]\n",
    "            stones[1]=0\n",
    "        return stones[0]\n",
    "Solution().lastStoneWeight([2,7,4,1,8,1])"
   ]
  },
  {
   "cell_type": "code",
   "execution_count": 19,
   "metadata": {},
   "outputs": [
    {
     "name": "stdout",
     "output_type": "stream",
     "text": [
      "8\n",
      "[0, 4, 2, 1, 1, 1]\n",
      "[0, 0, 2, 1, 1, 1]\n",
      "[0, 0, 0, 1, 1, 1]\n",
      "[0, 0, 0, 0, 1, 0]\n",
      "[0, 0, 0, 0, 1, 0]\n"
     ]
    },
    {
     "data": {
      "text/plain": [
       "1"
      ]
     },
     "execution_count": 19,
     "metadata": {},
     "output_type": "execute_result"
    }
   ],
   "source": [
    "from typing import List\n",
    "class Solution:\n",
    "    def lastStoneWeight(self, stones: List[int]) -> int:\n",
    "        if len(stones) <=1:\n",
    "            return stones[0]\n",
    "        stones.sort(reverse=True)\n",
    "        length=len(stones)\n",
    "        print(stones[0])\n",
    "        for i in range(length-1):\n",
    "            stones[i]=stones[i]-stones[i+1]\n",
    "            stones[i+1]=0\n",
    "            for j in range(i+2,length):\n",
    "                if stones[i]<stones[j]:\n",
    "                    stones[j-1]=stones[j]\n",
    "                    stones[j]=stones[i]\n",
    "                else:\n",
    "                    stones[j-1]=stones[i]\n",
    "                    stones[i]=0\n",
    "                    break\n",
    "            print(stones)\n",
    "        return stones[length-2]-stones[length-1]\n",
    "Solution().lastStoneWeight([2,7,4,1,8,1])"
   ]
  }
 ],
 "metadata": {
  "kernelspec": {
   "display_name": "Python 3",
   "language": "python",
   "name": "python3"
  },
  "language_info": {
   "codemirror_mode": {
    "name": "ipython",
    "version": 3
   },
   "file_extension": ".py",
   "mimetype": "text/x-python",
   "name": "python",
   "nbconvert_exporter": "python",
   "pygments_lexer": "ipython3",
   "version": "3.7.4"
  }
 },
 "nbformat": 4,
 "nbformat_minor": 4
}
