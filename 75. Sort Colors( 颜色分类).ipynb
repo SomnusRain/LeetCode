{
 "cells": [
  {
   "cell_type": "markdown",
   "id": "lined-pound",
   "metadata": {},
   "source": [
    "Given an array nums with n objects colored red, white, or blue, sort them in-place so that objects of the same color are adjacent, with the colors in the order red, white, and blue.\n",
    "\n",
    "We will use the integers 0, 1, and 2 to represent the color red, white, and blue, respectively.\n",
    "\n",
    "Example 1:\n",
    "\n",
    "Input: nums = [2,0,2,1,1,0]\n",
    "Output: [0,0,1,1,2,2]\n",
    "Example 2:\n",
    "\n",
    "Input: nums = [2,0,1]\n",
    "Output: [0,1,2]\n",
    "Example 3:\n",
    "\n",
    "Input: nums = [0]\n",
    "Output: [0]\n",
    "Example 4:\n",
    "\n",
    "Input: nums = [1]\n",
    "Output: [1]\n",
    " \n",
    "\n",
    "Constraints:\n",
    "\n",
    "n == nums.length\n",
    "1 <= n <= 300\n",
    "nums[i] is 0, 1, or 2.\n",
    " \n",
    "\n",
    "Follow up:\n",
    "\n",
    "Could you solve this problem without using the library's sort function?\n",
    "Could you come up with a one-pass algorithm using only O(1) constant space?\n",
    "\n",
    "来源：力扣（LeetCode）\n",
    "链接：https://leetcode-cn.com/problems/sort-colors\n",
    "著作权归领扣网络所有。商业转载请联系官方授权，非商业转载请注明出处。"
   ]
  },
  {
   "cell_type": "code",
   "execution_count": 12,
   "id": "crude-decision",
   "metadata": {
    "ExecuteTime": {
     "end_time": "2021-04-06T06:54:34.287561Z",
     "start_time": "2021-04-06T06:54:34.281562Z"
    }
   },
   "outputs": [
    {
     "name": "stdout",
     "output_type": "stream",
     "text": [
      "[0, 0, 1, 1, 2, 2]\n"
     ]
    }
   ],
   "source": [
    "from typing import List\n",
    "class Solution:\n",
    "    def sortColors(self, nums: List[int]) -> None:\n",
    "        \"\"\"\n",
    "        Do not return anything, modify nums in-place instead.\n",
    "        \"\"\" \n",
    "        m=-1\n",
    "        n=len(nums)\n",
    "        i=0\n",
    "        while i<n:\n",
    "            if nums[i]==2:\n",
    "                nums[i]=nums[n-1]\n",
    "                nums[n-1]=2\n",
    "                n-=1\n",
    "            elif nums[i]==0:\n",
    "                nums[i]=nums[m+1]\n",
    "                nums[m+1]=0\n",
    "                m+=1\n",
    "                i+=1\n",
    "            else:\n",
    "                i+=1\n",
    "        print(nums)\n",
    "Solution().sortColors([2,0,2,1,1,0])"
   ]
  }
 ],
 "metadata": {
  "kernelspec": {
   "display_name": "Python 3",
   "language": "python",
   "name": "python3"
  },
  "language_info": {
   "codemirror_mode": {
    "name": "ipython",
    "version": 3
   },
   "file_extension": ".py",
   "mimetype": "text/x-python",
   "name": "python",
   "nbconvert_exporter": "python",
   "pygments_lexer": "ipython3",
   "version": "3.7.10"
  },
  "varInspector": {
   "cols": {
    "lenName": 16,
    "lenType": 16,
    "lenVar": 40
   },
   "kernels_config": {
    "python": {
     "delete_cmd_postfix": "",
     "delete_cmd_prefix": "del ",
     "library": "var_list.py",
     "varRefreshCmd": "print(var_dic_list())"
    },
    "r": {
     "delete_cmd_postfix": ") ",
     "delete_cmd_prefix": "rm(",
     "library": "var_list.r",
     "varRefreshCmd": "cat(var_dic_list()) "
    }
   },
   "types_to_exclude": [
    "module",
    "function",
    "builtin_function_or_method",
    "instance",
    "_Feature"
   ],
   "window_display": false
  }
 },
 "nbformat": 4,
 "nbformat_minor": 5
}
