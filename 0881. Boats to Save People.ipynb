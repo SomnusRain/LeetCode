{
 "cells": [
  {
   "cell_type": "markdown",
   "metadata": {},
   "source": [
    "You are given an array people where people[i] is the weight of the ith person, and an infinite number of boats where each boat can carry a maximum weight of limit. Each boat carries at most two people at the same time, provided the sum of the weight of those people is at most limit.\n",
    "\n",
    "Return the minimum number of boats to carry every given person.\n",
    "\n",
    "Example 1:\n",
    "\n",
    "    Input: people = [1,2], limit = 3\n",
    "    Output: 1\n",
    "    Explanation: 1 boat (1, 2)\n",
    "\n",
    "Example 2:\n",
    "\n",
    "    Input: people = [3,2,2,1], limit = 3\n",
    "    Output: 3\n",
    "    Explanation: 3 boats (1, 2), (2) and (3)\n",
    "    \n",
    "Example 3:\n",
    "\n",
    "    Input: people = [3,5,3,4], limit = 5\n",
    "    Output: 4\n",
    "    Explanation: 4 boats (3), (3), (4), (5)\n",
    "\n",
    "Constraints:\n",
    "\n",
    "1 <= people.length <= 5 * 104\n",
    "1 <= people[i] <= limit <= 3 * 104\n",
    "\n",
    "来源：力扣（LeetCode）\n",
    "链接：https://leetcode-cn.com/problems/boats-to-save-people\n",
    "著作权归领扣网络所有。商业转载请联系官方授权，非商业转载请注明出处。"
   ]
  },
  {
   "cell_type": "code",
   "execution_count": 2,
   "metadata": {
    "ExecuteTime": {
     "end_time": "2021-01-20T07:24:02.532132Z",
     "start_time": "2021-01-20T07:24:02.528128Z"
    }
   },
   "outputs": [],
   "source": [
    "from typing import List"
   ]
  },
  {
   "cell_type": "code",
   "execution_count": 20,
   "metadata": {
    "ExecuteTime": {
     "end_time": "2021-01-19T08:46:11.460126Z",
     "start_time": "2021-01-19T08:46:11.442624Z"
    }
   },
   "outputs": [
    {
     "name": "stdout",
     "output_type": "stream",
     "text": [
      "{4: 7, 9: 2, 3: 5, 1: 8, 7: 4, 6: 5, 10: 7, 8: 5, 2: 3, 5: 4}\n",
      "2\n",
      "16\n",
      "25\n",
      "{4: 2, 3: 1, 1: 4, 10: 0, 8: 0}\n",
      "29\n"
     ]
    },
    {
     "data": {
      "text/plain": [
       "29"
      ]
     },
     "execution_count": 20,
     "metadata": {},
     "output_type": "execute_result"
    }
   ],
   "source": [
    "class Solution:\n",
    "    def numRescueBoats(self, people: List[int], limit: int) -> int:\n",
    "        dic={}\n",
    "        for i in people:\n",
    "            if i in dic:\n",
    "                dic[i]+=1\n",
    "            else:\n",
    "                dic[i]=1\n",
    "        print(dic)\n",
    "        res=0\n",
    "        if limit/2 in dic:\n",
    "            res=dic[limit/2]//2\n",
    "            dic[limit/2]-=res*2\n",
    "            if dic[limit/2] == 0 :\n",
    "                del dic[limit/2]\n",
    "        keys=sorted(dic.keys())\n",
    "        index=0\n",
    "        print(res)\n",
    "        while index<len(keys) and keys[index]<limit/2 :\n",
    "            if limit-keys[index] in dic:\n",
    "                if dic[keys[index]]>dic[limit-keys[index]]:\n",
    "                    dic[keys[index]]-=dic[limit-keys[index]]\n",
    "                    res+=dic[limit-keys[index]]\n",
    "                    del dic[limit-keys[index]]\n",
    "                elif dic[keys[index]]==dic[limit-keys[index]]:\n",
    "                    res+=dic[limit-keys[index]]\n",
    "                    del dic[limit-keys[index]]\n",
    "                    del dic[keys[index]]\n",
    "                else:\n",
    "                    res+=dic[keys[index]]\n",
    "                    dic[limit-keys[index]]-=dic[keys[index]]\n",
    "                    del dic[keys[index]]\n",
    "            index+=1\n",
    "        print(res)\n",
    "        keys=sorted(dic.keys(),reverse=True)\n",
    "        index=0\n",
    "        while index<len(keys) and keys[index]>limit/2:\n",
    "            j=len(keys)-1\n",
    "            while j>index and keys[j]+keys[index]<=limit and keys[j]<limit/2:\n",
    "                tem_min=min(dic[keys[j]],dic[keys[index]])\n",
    "                dic[keys[j]]-=tem_min\n",
    "                dic[keys[index]]-=tem_min\n",
    "                res+=tem_min\n",
    "                if dic[keys[j]]==0:\n",
    "                    del dic[keys[j]]\n",
    "                    del keys[j]\n",
    "                if dic[keys[index]]==0:\n",
    "                    break;\n",
    "                j-=1\n",
    "            res+=dic[keys[index]]\n",
    "            dic[keys[index]]=0\n",
    "            index+=1\n",
    "        print(res)\n",
    "        print(dic)\n",
    "        tem_sum=sum(dic.values())+1\n",
    "        res+=tem_sum//2\n",
    "        print(res)\n",
    "        return res\n",
    "                \n",
    "Solution().numRescueBoats([4,9,3,1,1,7,6,10,10,10,1,8,8,7,8,10,7,4,6,3,6,1,2,4,8,8,4,7,1,2,10,3,4,6,3,5,3,1,2,6,1,5,4,5,1,10,5,9,10,4],10)"
   ]
  },
  {
   "cell_type": "code",
   "execution_count": 3,
   "metadata": {
    "ExecuteTime": {
     "end_time": "2021-01-20T07:24:04.646662Z",
     "start_time": "2021-01-20T07:24:04.629497Z"
    }
   },
   "outputs": [
    {
     "data": {
      "text/plain": [
       "29"
      ]
     },
     "execution_count": 3,
     "metadata": {},
     "output_type": "execute_result"
    }
   ],
   "source": [
    "class Solution:\n",
    "    def numRescueBoats(self, people: List[int], limit: int) -> int:\n",
    "        '''\n",
    "        优化双指针\n",
    "        '''\n",
    "        people.sort()\n",
    "        i,j=0,len(people)-1\n",
    "        ans=0\n",
    "        while i<j and people[i]<=limit/2 and people[j]>=limit/2:\n",
    "            if people[i]+people[j]<=limit:\n",
    "                i+=1\n",
    "                j-=1\n",
    "                ans+=1\n",
    "            else:\n",
    "                j-=1\n",
    "                ans+=1\n",
    "        if i==j:\n",
    "            ans+=1\n",
    "        elif i<j:\n",
    "            if people[i]>limit/2:\n",
    "                ans+=j-i+1\n",
    "            elif people[j]<limit/2:\n",
    "                    ans+=(j-i+2)//2\n",
    "        return ans\n",
    "Solution().numRescueBoats([4,9,3,1,1,7,6,10,10,10,1,8,8,7,8,10,7,4,6,3,6,1,2,4,8,8,4,7,1,2,10,3,4,6,3,5,3,1,2,6,1,5,4,5,1,10,5,9,10,4],10)"
   ]
  }
 ],
 "metadata": {
  "kernelspec": {
   "display_name": "Python 3",
   "language": "python",
   "name": "python3"
  },
  "language_info": {
   "codemirror_mode": {
    "name": "ipython",
    "version": 3
   },
   "file_extension": ".py",
   "mimetype": "text/x-python",
   "name": "python",
   "nbconvert_exporter": "python",
   "pygments_lexer": "ipython3",
   "version": "3.7.7"
  },
  "varInspector": {
   "cols": {
    "lenName": 16,
    "lenType": 16,
    "lenVar": 40
   },
   "kernels_config": {
    "python": {
     "delete_cmd_postfix": "",
     "delete_cmd_prefix": "del ",
     "library": "var_list.py",
     "varRefreshCmd": "print(var_dic_list())"
    },
    "r": {
     "delete_cmd_postfix": ") ",
     "delete_cmd_prefix": "rm(",
     "library": "var_list.r",
     "varRefreshCmd": "cat(var_dic_list()) "
    }
   },
   "types_to_exclude": [
    "module",
    "function",
    "builtin_function_or_method",
    "instance",
    "_Feature"
   ],
   "window_display": false
  }
 },
 "nbformat": 4,
 "nbformat_minor": 4
}
