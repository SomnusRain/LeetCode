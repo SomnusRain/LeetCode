{
 "cells": [
  {
   "cell_type": "code",
   "execution_count": 1,
   "metadata": {
    "ExecuteTime": {
     "end_time": "2021-01-18T07:16:13.997482Z",
     "start_time": "2021-01-18T07:16:13.993499Z"
    }
   },
   "outputs": [],
   "source": [
    "from typing import List"
   ]
  },
  {
   "cell_type": "markdown",
   "metadata": {},
   "source": [
    "Given a list of dominoes, dominoes[i] = [a, b] is equivalent to dominoes[j] = [c, d] if and only if either (a==c and b==d), or (a==d and b==c) - that is, one domino can be rotated to be equal to another domino.\n",
    "\n",
    "Return the number of pairs (i, j) for which 0 <= i < j < dominoes.length, and dominoes[i] is equivalent to dominoes[j].\n",
    "\n",
    "Example 1:\n",
    "\n",
    "    Input: dominoes = [[1,2],[2,1],[3,4],[5,6]]\n",
    "    Output: 1\n",
    "    \n",
    "Constraints:\n",
    "\n",
    "    1 <= dominoes.length <= 40000\n",
    "    1 <= dominoes[i][j] <= 9\n",
    "    \n",
    "来源：力扣（LeetCode）\n",
    "链接：https://leetcode-cn.com/problems/number-of-equivalent-domino-pairs\n",
    "著作权归领扣网络所有。商业转载请联系官方授权，非商业转载请注明出处。"
   ]
  },
  {
   "cell_type": "code",
   "execution_count": 3,
   "metadata": {
    "ExecuteTime": {
     "end_time": "2021-01-18T07:41:23.846850Z",
     "start_time": "2021-01-18T07:41:23.833860Z"
    }
   },
   "outputs": [
    {
     "data": {
      "text/plain": [
       "1"
      ]
     },
     "execution_count": 3,
     "metadata": {},
     "output_type": "execute_result"
    }
   ],
   "source": [
    "class Solution:\n",
    "    def numEquivDominoPairs(self, dominoes: List[List[int]]) -> int:\n",
    "        '''\n",
    "        正常强制解法 时间复杂度 n^2 空间复杂度 1\n",
    "        '''\n",
    "        len_dominoes=len(dominoes)\n",
    "        res=0\n",
    "        for i in range(len_dominoes):\n",
    "            for j in range(i+1,len_dominoes):\n",
    "                if (dominoes[i][0]==dominoes[j][0] and dominoes[i][1]==dominoes[j][1]) or (dominoes[i][0]==dominoes[j][1] and dominoes[i][1]==dominoes[j][0]):\n",
    "                    res+=1\n",
    "        return res\n",
    "Solution().numEquivDominoPairs([[1,2],[2,1],[3,4],[5,6]])"
   ]
  },
  {
   "cell_type": "code",
   "execution_count": 7,
   "metadata": {
    "ExecuteTime": {
     "end_time": "2021-01-18T07:58:15.729580Z",
     "start_time": "2021-01-18T07:58:15.722579Z"
    }
   },
   "outputs": [
    {
     "data": {
      "text/plain": [
       "1.0"
      ]
     },
     "execution_count": 7,
     "metadata": {},
     "output_type": "execute_result"
    }
   ],
   "source": [
    "class Solution:\n",
    "    def numEquivDominoPairs(self, dominoes: List[List[int]]) -> int:\n",
    "        '''\n",
    "        牺牲空间提高时间 时间复杂度 n 空间复杂度 n\n",
    "        '''\n",
    "        res=0\n",
    "        dict_dominoes={}\n",
    "        for i in dominoes:\n",
    "            key='%02d_%02d'%(i[0]*i[1],i[0]+i[1])\n",
    "            if key in dict_dominoes:\n",
    "                dict_dominoes[key]+=1\n",
    "            else:\n",
    "                dict_dominoes[key]=1\n",
    "        for i in dict_dominoes.values():\n",
    "            res+=i*(i-1)/2\n",
    "        return int(res)\n",
    "Solution().numEquivDominoPairs([[1,2],[2,1],[3,4],[5,6]])"
   ]
  },
  {
   "cell_type": "code",
   "execution_count": 18,
   "metadata": {
    "ExecuteTime": {
     "end_time": "2021-01-18T08:15:27.263026Z",
     "start_time": "2021-01-18T08:15:27.257027Z"
    }
   },
   "outputs": [
    {
     "name": "stdout",
     "output_type": "stream",
     "text": [
      "6\n",
      "6\n",
      "24\n",
      "96\n"
     ]
    },
    {
     "data": {
      "text/plain": [
       "1"
      ]
     },
     "execution_count": 18,
     "metadata": {},
     "output_type": "execute_result"
    }
   ],
   "source": [
    "class Solution:\n",
    "    def numEquivDominoPairs(self, dominoes: List[List[int]]) -> int:\n",
    "        dict_dominoes={}\n",
    "        for  i in dominoes:\n",
    "            #优化二进制计算\n",
    "            key = (1<<i[0]|1<<i[1])\n",
    "            if key in dict_dominoes:\n",
    "                dict_dominoes[key]+=1\n",
    "            else:\n",
    "                dict_dominoes[key]=1\n",
    "        res=0\n",
    "        for i in dict_dominoes.values():\n",
    "            res+=i*(i-1)/2\n",
    "        return int(res)\n",
    "Solution().numEquivDominoPairs([[1,2],[2,1],[3,4],[5,6]])"
   ]
  },
  {
   "cell_type": "code",
   "execution_count": 13,
   "metadata": {
    "ExecuteTime": {
     "end_time": "2021-01-18T08:12:15.763067Z",
     "start_time": "2021-01-18T08:12:15.753065Z"
    },
    "collapsed": true
   },
   "outputs": [
    {
     "name": "stdout",
     "output_type": "stream",
     "text": [
      "1\n",
      "3\n",
      "5\n",
      "9\n",
      "17\n",
      "33\n",
      "65\n",
      "129\n",
      "257\n",
      "513\n",
      "3\n",
      "2\n",
      "6\n",
      "10\n",
      "18\n",
      "34\n",
      "66\n",
      "130\n",
      "258\n",
      "514\n",
      "5\n",
      "6\n",
      "4\n",
      "12\n",
      "20\n",
      "36\n",
      "68\n",
      "132\n",
      "260\n",
      "516\n",
      "9\n",
      "10\n",
      "12\n",
      "8\n",
      "24\n",
      "40\n",
      "72\n",
      "136\n",
      "264\n",
      "520\n",
      "17\n",
      "18\n",
      "20\n",
      "24\n",
      "16\n",
      "48\n",
      "80\n",
      "144\n",
      "272\n",
      "528\n",
      "33\n",
      "34\n",
      "36\n",
      "40\n",
      "48\n",
      "32\n",
      "96\n",
      "160\n",
      "288\n",
      "544\n",
      "65\n",
      "66\n",
      "68\n",
      "72\n",
      "80\n",
      "96\n",
      "64\n",
      "192\n",
      "320\n",
      "576\n",
      "129\n",
      "130\n",
      "132\n",
      "136\n",
      "144\n",
      "160\n",
      "192\n",
      "128\n",
      "384\n",
      "640\n",
      "257\n",
      "258\n",
      "260\n",
      "264\n",
      "272\n",
      "288\n",
      "320\n",
      "384\n",
      "256\n",
      "768\n",
      "513\n",
      "514\n",
      "516\n",
      "520\n",
      "528\n",
      "544\n",
      "576\n",
      "640\n",
      "768\n",
      "512\n",
      "100 55\n"
     ]
    }
   ],
   "source": [
    "index=0\n",
    "res=set()\n",
    "for i in range(10):\n",
    "    for j in range(10):\n",
    "        index+=1\n",
    "        res.add(1<<i|1<<j)\n",
    "        print(1<<i|1<<j)\n",
    "print(index,len(res))"
   ]
  },
  {
   "cell_type": "code",
   "execution_count": null,
   "metadata": {},
   "outputs": [],
   "source": []
  }
 ],
 "metadata": {
  "kernelspec": {
   "display_name": "Python 3",
   "language": "python",
   "name": "python3"
  },
  "language_info": {
   "codemirror_mode": {
    "name": "ipython",
    "version": 3
   },
   "file_extension": ".py",
   "mimetype": "text/x-python",
   "name": "python",
   "nbconvert_exporter": "python",
   "pygments_lexer": "ipython3",
   "version": "3.7.7"
  },
  "varInspector": {
   "cols": {
    "lenName": 16,
    "lenType": 16,
    "lenVar": 40
   },
   "kernels_config": {
    "python": {
     "delete_cmd_postfix": "",
     "delete_cmd_prefix": "del ",
     "library": "var_list.py",
     "varRefreshCmd": "print(var_dic_list())"
    },
    "r": {
     "delete_cmd_postfix": ") ",
     "delete_cmd_prefix": "rm(",
     "library": "var_list.r",
     "varRefreshCmd": "cat(var_dic_list()) "
    }
   },
   "types_to_exclude": [
    "module",
    "function",
    "builtin_function_or_method",
    "instance",
    "_Feature"
   ],
   "window_display": false
  }
 },
 "nbformat": 4,
 "nbformat_minor": 4
}
