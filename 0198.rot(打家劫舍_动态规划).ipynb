{
 "cells": [
  {
   "cell_type": "raw",
   "metadata": {},
   "source": [
    "你是一个专业的小偷，计划偷窃沿街的房屋。每间房内都藏有一定的现金，影响你偷窃的唯一制约因素就是相邻的房屋装有相互连通的防盗系统，如果两间相邻的房屋在同一晚上被小偷闯入，系统会自动报警。\n",
    "给定一个代表每个房屋存放金额的非负整数数组，计算你在不触动警报装置的情况下，能够偷窃到的最高金额。\n",
    "示例 1:\n",
    "输入:[1,2,3,1]\n",
    "输出:4\n",
    "解释:偷窃1号房屋(金额=1)，然后偷窃3号房屋(金额=3)。\n",
    "偷窃到的最高金额=1+3=4。\n",
    "\n",
    "示例 2:\n",
    "输入:[2,7,9,3,1]\n",
    "输出:12\n",
    "解释:偷窃1号房屋(金额=2),偷窃3号房屋(金额=9)，接着偷窃5号房屋(金额=1)。\n",
    "偷窃到的最高金额=2+9+1=12.\n",
    "来源：力扣（LeetCode）\n",
    "链接：https://leetcode-cn.com/problems/house-robber"
   ]
  },
  {
   "cell_type": "code",
   "execution_count": 12,
   "metadata": {},
   "outputs": [
    {
     "name": "stdout",
     "output_type": "stream",
     "text": [
      "4\n"
     ]
    }
   ],
   "source": [
    "from typing import List\n",
    "import math\n",
    "class Solution:\n",
    "    def rob(self, nums: List[int]) -> int:\n",
    "        prevMax = 0\n",
    "        currMax = 0\n",
    "        for x in nums :\n",
    "            temp = currMax\n",
    "            currMax = max(prevMax + x, currMax)\n",
    "            prevMax = temp\n",
    "        return currMax;\n",
    "Solution().rob([1,2,3]);"
   ]
  },
  {
   "cell_type": "code",
   "execution_count": null,
   "metadata": {},
   "outputs": [],
   "source": []
  }
 ],
 "metadata": {
  "kernelspec": {
   "display_name": "Python 3",
   "language": "python",
   "name": "python3"
  },
  "language_info": {
   "codemirror_mode": {
    "name": "ipython",
    "version": 3
   },
   "file_extension": ".py",
   "mimetype": "text/x-python",
   "name": "python",
   "nbconvert_exporter": "python",
   "pygments_lexer": "ipython3",
   "version": "3.7.4"
  }
 },
 "nbformat": 4,
 "nbformat_minor": 4
}
