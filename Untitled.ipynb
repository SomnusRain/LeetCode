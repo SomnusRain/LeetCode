{
 "cells": [
  {
   "cell_type": "code",
   "execution_count": 1,
   "id": "preceding-installation",
   "metadata": {
    "ExecuteTime": {
     "end_time": "2021-04-15T02:42:10.056655Z",
     "start_time": "2021-04-15T02:42:10.050144Z"
    }
   },
   "outputs": [],
   "source": [
    "import random"
   ]
  },
  {
   "cell_type": "code",
   "execution_count": 155,
   "id": "seeing-sustainability",
   "metadata": {
    "ExecuteTime": {
     "end_time": "2021-04-15T06:03:07.903254Z",
     "start_time": "2021-04-15T06:03:07.897261Z"
    }
   },
   "outputs": [
    {
     "name": "stdout",
     "output_type": "stream",
     "text": [
      "6\n",
      "4\n",
      "8\n",
      "9\n",
      "2\n",
      "0\n",
      "3\n",
      "1\n",
      "7\n",
      "5\n"
     ]
    }
   ],
   "source": [
    "def getNum1(m,n):\n",
    "    temRes=0\n",
    "    for i in range(n):\n",
    "        randNum=random.randint(0,m-1-i)\n",
    "        tem=temRes\n",
    "        add=0\n",
    "        while tem&((1<<(randNum+1+add))-1):\n",
    "            tem &= tem - 1\n",
    "            add+=1\n",
    "        temRes|=1<<(randNum+add)\n",
    "        print(randNum+add)\n",
    "getNum1(10,10)"
   ]
  },
  {
   "cell_type": "code",
   "execution_count": 101,
   "id": "rubber-history",
   "metadata": {
    "ExecuteTime": {
     "end_time": "2021-04-15T03:13:04.476546Z",
     "start_time": "2021-04-15T03:13:04.472551Z"
    }
   },
   "outputs": [
    {
     "name": "stdout",
     "output_type": "stream",
     "text": [
      "0b11\n"
     ]
    }
   ],
   "source": [
    "def getNum2(m,n):\n",
    "    res=[\n",
    "        [0,1],# 0\n",
    "        [0,2],# 1\n",
    "        [0,3],# 2\n",
    "        [1,2],# 3\n",
    "        [1,3],# 4\n",
    "        [2,3] # 5\n",
    "    ]\n",
    "getNum1(4,2)"
   ]
  },
  {
   "cell_type": "code",
   "execution_count": 127,
   "id": "coastal-republic",
   "metadata": {
    "ExecuteTime": {
     "end_time": "2021-04-15T03:48:55.518749Z",
     "start_time": "2021-04-15T03:48:55.503756Z"
    }
   },
   "outputs": [
    {
     "name": "stderr",
     "output_type": "stream",
     "text": [
      "'5' 不是内部或外部命令，也不是可运行的程序\n",
      "或批处理文件。\n"
     ]
    }
   ],
   "source": [
    "[\n",
    "    [0,1,2],# 0\n",
    "    [0,1,3],# 1\n",
    "    [0,2,3],# 2\n",
    "    [2,3,4] # 3\n",
    "]"
   ]
  }
 ],
 "metadata": {
  "kernelspec": {
   "display_name": "Python 3",
   "language": "python",
   "name": "python3"
  },
  "language_info": {
   "codemirror_mode": {
    "name": "ipython",
    "version": 3
   },
   "file_extension": ".py",
   "mimetype": "text/x-python",
   "name": "python",
   "nbconvert_exporter": "python",
   "pygments_lexer": "ipython3",
   "version": "3.7.10"
  },
  "varInspector": {
   "cols": {
    "lenName": 16,
    "lenType": 16,
    "lenVar": 40
   },
   "kernels_config": {
    "python": {
     "delete_cmd_postfix": "",
     "delete_cmd_prefix": "del ",
     "library": "var_list.py",
     "varRefreshCmd": "print(var_dic_list())"
    },
    "r": {
     "delete_cmd_postfix": ") ",
     "delete_cmd_prefix": "rm(",
     "library": "var_list.r",
     "varRefreshCmd": "cat(var_dic_list()) "
    }
   },
   "types_to_exclude": [
    "module",
    "function",
    "builtin_function_or_method",
    "instance",
    "_Feature"
   ],
   "window_display": false
  }
 },
 "nbformat": 4,
 "nbformat_minor": 5
}
