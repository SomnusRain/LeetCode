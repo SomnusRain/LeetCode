{
 "cells": [
  {
   "cell_type": "markdown",
   "metadata": {},
   "source": [
    "Implement next permutation, which rearranges numbers into the lexicographically next greater permutation of numbers.\n",
    "实现获取 下一个排列 的函数，算法需要将给定数字序列重新排列成字典序中下一个更大的排列。\n",
    "\n",
    "If such an arrangement is not possible, it must rearrange it as the lowest possible order (i.e., sorted in ascending order).\n",
    "如果不存在下一个更大的排列，则将数字重新排列成最小的排列（即升序排列）。\n",
    "\n",
    "The replacement must be in place and use only constant extra memory.\n",
    "必须 原地 修改，只允许使用额外常数空间。\n",
    "\n",
    "Example 1:\n",
    "```\n",
    "    Input: nums = [1,2,3]\n",
    "    Output: [1,3,2]\n",
    "```\n",
    "Example 2:\n",
    "```\n",
    "    Input: nums = [3,2,1]\n",
    "    Output: [1,2,3]\n",
    "```\n",
    "Example 3:\n",
    "```\n",
    "    Input: nums = [1,1,5]\n",
    "    Output: [1,5,1]\n",
    "```\n",
    "Example 4:\n",
    "```\n",
    "    Input: nums = [1]\n",
    "    Output: [1]\n",
    "```\n",
    "\n",
    "Constraints:\n",
    "```\n",
    "    1 <= nums.length <= 100\n",
    "    0 <= nums[i] <= 100\n",
    "```"
   ]
  },
  {
   "cell_type": "code",
   "execution_count": null,
   "metadata": {},
   "outputs": [],
   "source": [
    "from typing import List\n",
    "class Solution:\n",
    "    def nextPermutation(self, nums: List[int]) -> None:\n",
    "        \"\"\"\n",
    "        Do not return anything, modify nums in-place instead.\n",
    "        \"\"\""
   ]
  }
 ],
 "metadata": {
  "kernelspec": {
   "display_name": "Python 3",
   "language": "python",
   "name": "python3"
  },
  "language_info": {
   "codemirror_mode": {
    "name": "ipython",
    "version": 3
   },
   "file_extension": ".py",
   "mimetype": "text/x-python",
   "name": "python",
   "nbconvert_exporter": "python",
   "pygments_lexer": "ipython3",
   "version": "3.7.7"
  },
  "varInspector": {
   "cols": {
    "lenName": 16,
    "lenType": 16,
    "lenVar": 40
   },
   "kernels_config": {
    "python": {
     "delete_cmd_postfix": "",
     "delete_cmd_prefix": "del ",
     "library": "var_list.py",
     "varRefreshCmd": "print(var_dic_list())"
    },
    "r": {
     "delete_cmd_postfix": ") ",
     "delete_cmd_prefix": "rm(",
     "library": "var_list.r",
     "varRefreshCmd": "cat(var_dic_list()) "
    }
   },
   "types_to_exclude": [
    "module",
    "function",
    "builtin_function_or_method",
    "instance",
    "_Feature"
   ],
   "window_display": false
  }
 },
 "nbformat": 4,
 "nbformat_minor": 4
}
