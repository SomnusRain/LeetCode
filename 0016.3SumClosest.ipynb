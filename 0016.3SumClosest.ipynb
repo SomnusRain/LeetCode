{
 "cells": [
  {
   "cell_type": "raw",
   "metadata": {},
   "source": [
    "Given an array nums of n integers and an integer target, find three integers in nums such that the sum is closest to target. Return the sum of the three integers. You may assume that each input would have exactly one solution.\n",
    "\n",
    "给定一个包括 n 个整数的数组 nums 和 一个目标值 target。找出 nums 中的三个整数，使得它们的和与 target 最接近。返回这三个数的和。假定每组输入只存在唯一答案。\n",
    "\n",
    "Example 1:\n",
    "\n",
    "Input: nums = [-1,2,1,-4], target = 1\n",
    "Output: 2\n",
    "Explanation: The sum that is closest to the target is 2. (-1 + 2 + 1 = 2).\n",
    "\n",
    "Constraints:\n",
    "    3 <= nums.length <= 10^3\n",
    "    -10^3 <= nums[i] <= 10^3\n",
    "    -10^4 <= target <= 10^4\n"
   ]
  },
  {
   "cell_type": "code",
   "execution_count": 29,
   "metadata": {
    "ExecuteTime": {
     "end_time": "2020-08-19T03:52:24.417237Z",
     "start_time": "2020-08-19T03:52:24.411220Z"
    }
   },
   "outputs": [],
   "source": [
    "from typing import List\n",
    "def threeSumClosest(nums: List[int], target: int) -> int:\n",
    "    res=nums[0]+nums[1]+nums[2]\n",
    "    for i in range(0,len(nums)-2):\n",
    "        for j in range(i+1,len(nums)-1):\n",
    "            for k in range(j+1,len(nums)):\n",
    "                if nums[i]+nums[j]+nums[k]-target==0:\n",
    "                    print(nums[i],nums[j],nums[k])\n",
    "                    return target\n",
    "                elif abs(nums[i]+nums[j]+nums[k]-target)<abs(res-target):\n",
    "                    res=nums[i]+nums[j]+nums[k]\n",
    "                    print(nums[i],nums[j],nums[k])\n",
    "    return res"
   ]
  },
  {
   "cell_type": "code",
   "execution_count": 5,
   "metadata": {
    "ExecuteTime": {
     "end_time": "2020-08-20T09:36:36.733161Z",
     "start_time": "2020-08-20T09:36:36.729146Z"
    }
   },
   "outputs": [],
   "source": [
    "from typing import List\n",
    "def threeSumClosest(nums: List[int], target: int) -> int:\n",
    "    nums.sort()\n",
    "    res=nums[0]+nums[1]+nums[len(nums)-1]\n",
    "    for i in range(0,len(nums)-2):\n",
    "        m=i+1\n",
    "        n=len(nums)-1\n",
    "        while m!=n:\n",
    "            value=nums[i]+nums[m]+nums[n]\n",
    "            if abs(res-target)>abs(value-target):\n",
    "                res=value\n",
    "            if value>target:\n",
    "                n-=1\n",
    "            elif value<target:\n",
    "                m+=1\n",
    "            else:\n",
    "                return target\n",
    "    return res"
   ]
  },
  {
   "cell_type": "code",
   "execution_count": 6,
   "metadata": {
    "ExecuteTime": {
     "end_time": "2020-08-20T09:36:38.753438Z",
     "start_time": "2020-08-20T09:36:38.745442Z"
    }
   },
   "outputs": [
    {
     "data": {
      "text/plain": [
       "2"
      ]
     },
     "execution_count": 6,
     "metadata": {},
     "output_type": "execute_result"
    }
   ],
   "source": [
    "threeSumClosest([-1,2,1,-4],1)"
   ]
  }
 ],
 "metadata": {
  "kernelspec": {
   "display_name": "Python 3",
   "language": "python",
   "name": "python3"
  },
  "language_info": {
   "codemirror_mode": {
    "name": "ipython",
    "version": 3
   },
   "file_extension": ".py",
   "mimetype": "text/x-python",
   "name": "python",
   "nbconvert_exporter": "python",
   "pygments_lexer": "ipython3",
   "version": "3.7.4"
  },
  "varInspector": {
   "cols": {
    "lenName": 16,
    "lenType": 16,
    "lenVar": 40
   },
   "kernels_config": {
    "python": {
     "delete_cmd_postfix": "",
     "delete_cmd_prefix": "del ",
     "library": "var_list.py",
     "varRefreshCmd": "print(var_dic_list())"
    },
    "r": {
     "delete_cmd_postfix": ") ",
     "delete_cmd_prefix": "rm(",
     "library": "var_list.r",
     "varRefreshCmd": "cat(var_dic_list()) "
    }
   },
   "types_to_exclude": [
    "module",
    "function",
    "builtin_function_or_method",
    "instance",
    "_Feature"
   ],
   "window_display": false
  }
 },
 "nbformat": 4,
 "nbformat_minor": 4
}
