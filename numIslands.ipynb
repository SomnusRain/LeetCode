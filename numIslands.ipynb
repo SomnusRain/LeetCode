{
 "cells": [
  {
   "cell_type": "code",
   "execution_count": 34,
   "metadata": {},
   "outputs": [],
   "source": [
    "from typing import List\n",
    "class Solution:\n",
    "    def numIslands(self, grid: List[List[str]]) -> int:\n",
    "        count=0;\n",
    "        for i in range(len(grid)):\n",
    "            for j in range(len(grid[i])):\n",
    "                if grid[i][j]=='1':\n",
    "                    count+=1\n",
    "                    wait=[[i,j]]\n",
    "                    while len(wait)>0:\n",
    "                        pos=wait.pop()\n",
    "                        print(pos)\n",
    "                        grid[pos[0]][pos[1]]='0';\n",
    "                        if pos[0]>0 and grid[pos[0]-1][pos[1]]=='1':\n",
    "                            wait.append([pos[0]-1,pos[1]])\n",
    "                        if pos[0]+1<len(grid) and grid[pos[0]+1][pos[1]]=='1':\n",
    "                            wait.append([pos[0]+1,pos[1]])\n",
    "                        if pos[1]>0 and grid[pos[0]][pos[1]-1]=='1':\n",
    "                            wait.append([pos[0],pos[1]-1])\n",
    "                        if pos[1]+1<len(grid[i]) and grid[pos[0]][pos[1]+1]=='1':\n",
    "                            wait.append([pos[0],pos[1]+1])\n",
    "                    print(grid)  \n",
    "        return count"
   ]
  },
  {
   "cell_type": "code",
   "execution_count": 35,
   "metadata": {},
   "outputs": [
    {
     "name": "stdout",
     "output_type": "stream",
     "text": [
      "[0, 0]\n",
      "[0, 1]\n",
      "[1, 1]\n",
      "[1, 0]\n",
      "[1, 0]\n",
      "[['0', '0', '0', '0', '0'], ['0', '0', '0', '0', '0'], ['0', '0', '1', '0', '0'], ['0', '0', '0', '1', '1']]\n",
      "[2, 2]\n",
      "[['0', '0', '0', '0', '0'], ['0', '0', '0', '0', '0'], ['0', '0', '0', '0', '0'], ['0', '0', '0', '1', '1']]\n",
      "[3, 3]\n",
      "[3, 4]\n",
      "[['0', '0', '0', '0', '0'], ['0', '0', '0', '0', '0'], ['0', '0', '0', '0', '0'], ['0', '0', '0', '0', '0']]\n"
     ]
    },
    {
     "data": {
      "text/plain": [
       "3"
      ]
     },
     "execution_count": 35,
     "metadata": {},
     "output_type": "execute_result"
    }
   ],
   "source": [
    "values=[[\"1\",\"1\",\"0\",\"0\",\"0\"],\n",
    "        [\"1\",\"1\",\"0\",\"0\",\"0\"],\n",
    "        [\"0\",\"0\",\"1\",\"0\",\"0\"],\n",
    "        [\"0\",\"0\",\"0\",\"1\",\"1\"]]\n",
    "#values=[[1,1,0,0,0],[1,1,0,0,0],[0,0,1,0,0],[0,0,0,1,1]]\n",
    "Solution().numIslands(values)"
   ]
  },
  {
   "cell_type": "code",
   "execution_count": null,
   "metadata": {},
   "outputs": [],
   "source": []
  }
 ],
 "metadata": {
  "kernelspec": {
   "display_name": "Python 3",
   "language": "python",
   "name": "python3"
  },
  "language_info": {
   "codemirror_mode": {
    "name": "ipython",
    "version": 3
   },
   "file_extension": ".py",
   "mimetype": "text/x-python",
   "name": "python",
   "nbconvert_exporter": "python",
   "pygments_lexer": "ipython3",
   "version": "3.7.4"
  }
 },
 "nbformat": 4,
 "nbformat_minor": 4
}
